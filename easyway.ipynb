{
 "cells": [
  {
   "cell_type": "code",
   "execution_count": 41,
   "id": "34a70ffe-dd4e-46e4-b202-4c11844e6875",
   "metadata": {},
   "outputs": [
    {
     "name": "stdout",
     "output_type": "stream",
     "text": [
      "{9: [1, [9], 5, [90, 10, 11, 12, 10]],\n",
      " 10: [3, [10, 9, 10], 3, [90, 11, 12]],\n",
      " 11: [4, [10, 11, 9, 10], 2, [90, 12]],\n",
      " 12: [5, [10, 11, 9, 12, 10], 1, [90]],\n",
      " 90: [6, [90, 10, 11, 9, 12, 10], 0, []]}\n"
     ]
    },
    {
     "data": {
      "text/plain": [
       "1"
      ]
     },
     "execution_count": 41,
     "metadata": {},
     "output_type": "execute_result"
    }
   ],
   "source": [
    "from pprint import pprint\n",
    "\n",
    "lista = [90,10,11,9,12,10]\n",
    "data = {}\n",
    "\n",
    "for l in range(0,len(lista)): \n",
    "    if not data.get(lista[l]):\n",
    "        data[lista[l]] = [0,[],0,[]]\n",
    "\n",
    "for d in data.keys():\n",
    "    for i in lista:\n",
    "        if d < i:\n",
    "            data[d][2]+=1\n",
    "            data[d][3].append(i)\n",
    "        else:\n",
    "            data[d][0]+=1\n",
    "            data[d][1].append(i)\n",
    "            \n",
    "        \n",
    "pprint(data)\n",
    "\n",
    "# less than \n",
    "data.get(9)[0]"
   ]
  }
 ],
 "metadata": {
  "kernelspec": {
   "display_name": "Python 3 (ipykernel)",
   "language": "python",
   "name": "python3"
  },
  "language_info": {
   "codemirror_mode": {
    "name": "ipython",
    "version": 3
   },
   "file_extension": ".py",
   "mimetype": "text/x-python",
   "name": "python",
   "nbconvert_exporter": "python",
   "pygments_lexer": "ipython3",
   "version": "3.10.9"
  }
 },
 "nbformat": 4,
 "nbformat_minor": 5
}
