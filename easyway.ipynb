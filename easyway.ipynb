{
 "cells": [
  {
   "cell_type": "code",
   "execution_count": 1,
   "id": "34a70ffe-dd4e-46e4-b202-4c11844e6875",
   "metadata": {},
   "outputs": [
    {
     "name": "stdout",
     "output_type": "stream",
     "text": [
      "5\n"
     ]
    }
   ],
   "source": [
    "            \n",
    "class DataCapture:\n",
    "    \n",
    "    def __init__(self, lista = [], data = {}):\n",
    "        self.lista = lista\n",
    "        self.data = {}\n",
    "        \n",
    "    def add(self, value=None):\n",
    "        self.lista.append(value)\n",
    "        if not self.data.get(value):\n",
    "            self.data[value] = [0,0]\n",
    "    \n",
    "    def build_stats(self):\n",
    "        \n",
    "        if len(self.data)<1:\n",
    "            return False\n",
    "        for d in self.data.keys():\n",
    "            for i in self.lista:\n",
    "                if d < i:\n",
    "                    self.data[d][1]+=1\n",
    "                if d > i:\n",
    "                    self.data[d][0]+=1\n",
    "        return True\n",
    "    '''\n",
    "        The Big(O) notation of this method is --> O(1)\n",
    "        given that it's a dictionary \n",
    "    '''       \n",
    "    def less(self,value=None):\n",
    "        return self.data.get(value,0)[0]\n",
    "    '''\n",
    "        The Big(O) notation of this method is --> O(1)\n",
    "        given that it's a dictionary \n",
    "    '''       \n",
    "    \n",
    "    def greater(self, value=None):\n",
    "        return self.data.get(value,0)[1]\n",
    "    '''\n",
    "        The Big(O) notation of this method is --> O(1)\n",
    "        given that it's a dictionary \n",
    "    '''      \n",
    "    def between(self,mins=0,maxs=0):\n",
    "        return self.less(maxs) - self.less(mins)\n",
    "\n",
    "lista = [90,10,11,9,12,10]\n",
    "\n",
    "node = DataCapture()\n",
    "node.add(3)\n",
    "node.add(3)\n",
    "node.add(3)\n",
    "node.add(3)\n",
    "node.add(3)\n",
    "node.add(10)\n",
    "node.build_stats()\n",
    "\n",
    "print(node.less(10))"
   ]
  }
 ],
 "metadata": {
  "kernelspec": {
   "display_name": "Python 3 (ipykernel)",
   "language": "python",
   "name": "python3"
  },
  "language_info": {
   "codemirror_mode": {
    "name": "ipython",
    "version": 3
   },
   "file_extension": ".py",
   "mimetype": "text/x-python",
   "name": "python",
   "nbconvert_exporter": "python",
   "pygments_lexer": "ipython3",
   "version": "3.10.9"
  }
 },
 "nbformat": 4,
 "nbformat_minor": 5
}
